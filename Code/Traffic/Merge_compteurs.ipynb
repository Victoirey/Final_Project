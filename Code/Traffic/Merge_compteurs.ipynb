{
 "cells": [
  {
   "cell_type": "code",
   "execution_count": 2,
   "id": "6489a8ea",
   "metadata": {},
   "outputs": [],
   "source": [
    "import glob\n",
    "import os, glob\n",
    "import pandas as pd\n"
   ]
  },
  {
   "cell_type": "code",
   "execution_count": 18,
   "id": "a40a40c3",
   "metadata": {},
   "outputs": [],
   "source": [
    "file1 = r'C:\\Users\\Administrateur\\Ironhack\\LAB\\DAFT_212\\Final_project\\Compteurs\\Cleaned\\Comptage_13mois_clean.csv'\n",
    "file2 = r'C:\\Users\\Administrateur\\Ironhack\\LAB\\DAFT_212\\Final_project\\Compteurs\\Cleaned\\Comptage_2020_clean.csv'\n",
    "file3 = r'C:\\Users\\Administrateur\\Ironhack\\LAB\\DAFT_212\\Final_project\\Compteurs\\Cleaned\\Comptage_2019_clean.csv'\n",
    "file4 = r'C:\\Users\\Administrateur\\Ironhack\\LAB\\DAFT_212\\Final_project\\Compteurs\\Cleaned\\Comptage_2018_clean.csv'\n",
    "\n",
    "dataFrame = pd.concat(\n",
    "   map(pd.read_csv, [file1, file2, file3, file4]), ignore_index=True)"
   ]
  },
  {
   "cell_type": "code",
   "execution_count": 20,
   "id": "813064fe",
   "metadata": {},
   "outputs": [
    {
     "name": "stdout",
     "output_type": "stream",
     "text": [
      "<class 'pandas.core.frame.DataFrame'>\n",
      "RangeIndex: 2293481 entries, 0 to 2293480\n",
      "Data columns (total 11 columns):\n",
      " #   Column               Dtype  \n",
      "---  ------               -----  \n",
      " 0   Unnamed: 0           int64  \n",
      " 1   compteur_id          object \n",
      " 2   compteur_name        object \n",
      " 3   site_compteur_id     float64\n",
      " 4   comptage_horaire     float64\n",
      " 5   date_heure_comptage  object \n",
      " 6   date_instal          object \n",
      " 7   date_comptage        object \n",
      " 8   heure_comptage       int64  \n",
      " 9   latitude             float64\n",
      " 10  longitude            float64\n",
      "dtypes: float64(4), int64(2), object(5)\n",
      "memory usage: 192.5+ MB\n"
     ]
    }
   ],
   "source": [
    "dataFrame.info()"
   ]
  },
  {
   "cell_type": "code",
   "execution_count": 21,
   "id": "0a5780ee",
   "metadata": {},
   "outputs": [],
   "source": [
    "dataFrame.to_csv(\"Comptage_merged.csv\")"
   ]
  },
  {
   "cell_type": "code",
   "execution_count": null,
   "id": "5291eaa4",
   "metadata": {},
   "outputs": [],
   "source": []
  },
  {
   "cell_type": "code",
   "execution_count": null,
   "id": "d6f01842",
   "metadata": {},
   "outputs": [],
   "source": []
  }
 ],
 "metadata": {
  "kernelspec": {
   "display_name": "Python 3 (ipykernel)",
   "language": "python",
   "name": "python3"
  },
  "language_info": {
   "codemirror_mode": {
    "name": "ipython",
    "version": 3
   },
   "file_extension": ".py",
   "mimetype": "text/x-python",
   "name": "python",
   "nbconvert_exporter": "python",
   "pygments_lexer": "ipython3",
   "version": "3.9.7"
  }
 },
 "nbformat": 4,
 "nbformat_minor": 5
}
